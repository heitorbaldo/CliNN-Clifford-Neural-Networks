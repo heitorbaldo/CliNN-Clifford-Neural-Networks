{
 "cells": [
  {
   "cell_type": "markdown",
   "metadata": {},
   "source": [
    "# Basic Clifford Neurons\n",
    "\n",
    "<hr>\n",
    "\n",
    "### A Brief Introduction to Clifford Neurons\n",
    "\n",
    "Buchholz [1] defined a Clifford neuron as following.\n",
    "\n",
    "\n",
    "<b>Definition 1.</b> A <i>Clifford Neuron</i> computes a function $(Cl_{p,q,r}(\\mathbb{R}))^{n} \\rightarrow Cl_{p,q,r}(\\mathbb{R})$ defined by\n",
    "\n",
    "$$\n",
    "y = \\sum_{i=1}^{n} w_{i} \\otimes_{p,q,r} x_{i} + \\theta,\n",
    "$$\n",
    "\n",
    "where $\\otimes_{p,q,r}$ is the geometric product, $w_{i}$ are the weights and $\\theta$ is the bias.\n",
    "\n",
    "\n",
    "<b>Definition 2.</b> A <i>basic Clifford neuron</i> is a Clifford neuron for the particular case $n=1$, thus it is defined by\n",
    "\n",
    "$$\n",
    "y =  w \\otimes_{p,q,r} x + \\theta.\n",
    "$$\n",
    "\n",
    "<br>\n",
    "\n",
    "Here we'll implement a basic Clifford neuron for $p=2,3$ and $q,r=0$, i.e. \n",
    "\n",
    "$$\n",
    "y =  w \\otimes_{2,0,0} x + \\theta \\hspace{0.3in} \\mbox{ and } \\hspace{0.3in} y =  w \\otimes_{3,0,0} x + \\theta\n",
    "$$\n",
    "\n",
    "\n",
    "### References\n",
    "\n",
    "[1] Buchholz, S. (2005). A Theory of Neural Computation with Clifford Algebras. PhD thesis. Kiel University. \n",
    "\n",
    "<hr>"
   ]
  },
  {
   "cell_type": "code",
   "execution_count": 6,
   "metadata": {},
   "outputs": [],
   "source": [
    "import warnings\n",
    "warnings.filterwarnings(\"ignore\")\n",
    "\n",
    "import numpy as np\n",
    "import clifford as cf"
   ]
  },
  {
   "cell_type": "code",
   "execution_count": 39,
   "metadata": {},
   "outputs": [
    {
     "data": {
      "text/plain": [
       "(1^e12)"
      ]
     },
     "execution_count": 39,
     "metadata": {},
     "output_type": "execute_result"
    }
   ],
   "source": [
    "#Notation\n",
    "\n",
    "blades = cf.Cl(2)[1] #creates a 2-dimensional clifford algebra\n",
    "\n",
    "#base elements\n",
    "e1 = blades['e1']\n",
    "e2 = blades['e2']\n",
    "e12 = blades['e12']\n",
    "\n",
    "e1*e2  #geometric product"
   ]
  },
  {
   "cell_type": "code",
   "execution_count": 61,
   "metadata": {},
   "outputs": [],
   "source": [
    "\n",
    "def basic_clifford_neuron(n, W, theta):\n",
    "    '''Returns y = w*x + theta.\n",
    "    Parameters\n",
    "    ----------\n",
    "    n: (integer) the dimension of the Clifford algebra.\n",
    "    W: (list) a list of weights. \n",
    "    theta: (float) the bias.\n",
    "    '''\n",
    "    if isinstance(n, int) == False:\n",
    "        raise TypeError(\"n must be an integer.\")\n",
    "    \n",
    "    if n < 2 or n > 3:\n",
    "        raise ValueError(\"n must be equal to 2 or 3.\")\n",
    "    \n",
    "    blades = cf.Cl(n)[1] #creates a n-dimensional clifford algebra\n",
    "    \n",
    "    if n == 2:\n",
    "        x = blades[''] + blades['e1'] + blades['e2'] + blades['e12']\n",
    "        w = W[0]*blades[''] + W[1]*blades['e1'] + W[2]*blades['e2'] + W[3]*blades['e12']\n",
    "        y = w*x + theta  #w*x = geometric product\n",
    "    \n",
    "    if n == 3:\n",
    "        x = (blades[''] + blades['e1'] + blades['e2'] + blades['e3'] + blades['e12']\n",
    "             + blades['e13'] + blades['e23'] + blades['e123'])\n",
    "        w = (W[0]*blades[''] + W[1]*blades['e1'] + W[2]*blades['e2'] + W[3]*blades['e3'] \n",
    "             + W[4]*blades['e12'] + W[5]*blades['e13'] +  W[6]*blades['e23'] +  W[7]*blades['e123'])\n",
    "        y = w*x + theta  #w*x = geometric product\n",
    "    \n",
    "    return y"
   ]
  },
  {
   "cell_type": "code",
   "execution_count": 62,
   "metadata": {},
   "outputs": [
    {
     "data": {
      "text/plain": [
       "1.4 + (0.8^e1) + (0.6^e2) + (0.8^e12)"
      ]
     },
     "execution_count": 62,
     "metadata": {},
     "output_type": "execute_result"
    }
   ],
   "source": [
    "n=2\n",
    "W = [0.5, 0.2, 0.1, 0.2]\n",
    "theta = 0.8\n",
    "\n",
    "basic_clifford_neuron(n, W, theta)"
   ]
  },
  {
   "cell_type": "code",
   "execution_count": 63,
   "metadata": {},
   "outputs": [
    {
     "data": {
      "text/plain": [
       "1.0 - (0.1^e1) + (0.4^e2) + (0.2^e3) + (0.7^e12) - (0.1^e13) + (0.4^e23) + (0.7^e123)"
      ]
     },
     "execution_count": 63,
     "metadata": {},
     "output_type": "execute_result"
    }
   ],
   "source": [
    "n=3\n",
    "W = [0.1, 0.2, 0.1, 0.2, 0.1, 0.05, 0.05, 0.2]\n",
    "theta = 0.8\n",
    "\n",
    "basic_clifford_neuron(n, W, theta)"
   ]
  },
  {
   "cell_type": "code",
   "execution_count": null,
   "metadata": {},
   "outputs": [],
   "source": []
  },
  {
   "cell_type": "code",
   "execution_count": null,
   "metadata": {},
   "outputs": [],
   "source": []
  }
 ],
 "metadata": {
  "kernelspec": {
   "display_name": "Python 3 (ipykernel)",
   "language": "python",
   "name": "python3"
  },
  "language_info": {
   "codemirror_mode": {
    "name": "ipython",
    "version": 3
   },
   "file_extension": ".py",
   "mimetype": "text/x-python",
   "name": "python",
   "nbconvert_exporter": "python",
   "pygments_lexer": "ipython3",
   "version": "3.9.12"
  }
 },
 "nbformat": 4,
 "nbformat_minor": 2
}
